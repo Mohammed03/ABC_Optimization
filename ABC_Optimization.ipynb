{
 "cells": [
  {
   "cell_type": "code",
   "execution_count": 3,
   "id": "118eee56-66a3-4b76-af68-afedad4ab0b6",
   "metadata": {},
   "outputs": [],
   "source": [
    "import pandas as pd\n",
    "import requests"
   ]
  },
  {
   "cell_type": "markdown",
   "id": "a04e6281-314f-41bf-9e0d-f0b1158fac0c",
   "metadata": {},
   "source": [
    "# Objective Function\n",
    "## Pareto Frontier of Sharpe Ratio and ESG Score\n",
    "\n",
    "The Sharpe Ratio is defined as:\n",
    "\n",
    "$$\n",
    "\\text{Sharpe Ratio} = \\frac{\\sum_{i=1}^n w_i \\mu_i - R_f}{\\sqrt{w^T \\Sigma w}}\n",
    "$$\n",
    "\n",
    "Where:\n",
    "- $μ_i$ = Portfolio return  \n",
    "- $R_f$ = Risk-free rate  \n",
    "- $σ_p$ = Portfolio volatility (standard deviation)\n",
    "- $Σw$\t= Covariance matrix"
   ]
  },
  {
   "cell_type": "code",
   "execution_count": 31,
   "id": "5fa5149e-14be-4645-a81f-b5dbce0a334c",
   "metadata": {},
   "outputs": [],
   "source": [
    "# gather ticker info from Alpha Vantage API\n",
    "API_KEY = \"OD76BXNCWU9GO4WP\"\n",
    "symbols = [\"MSFT\", \"AAPL\", \"NVDA\", \"UNH\", \"JNJ\", \"JPM\", \"V\", \"AMZN\", \"TSLA\", \"PG\", \n",
    "           \"KO\", \"HON\", \"UNP\", \"NEE\", \"CVX\", \"DUK\", \"PLD\", \"LIN\", \"GOOGL\", \"VZ\"]\n",
    "test = [\"MSFT\", \"NVDA\"]\n",
    "\n",
    "weights = [0.3, 0.7]\n",
    "\n",
    "esg_scores = [53,61]\n",
    "\n",
    "def fetch_daily_prices(ticker):\n",
    "    url = \"https://www.alphavantage.co/query\"\n",
    "    params = {\n",
    "        \"function\": \"TIME_SERIES_DAILY_ADJUSTED\",\n",
    "        \"symbol\": ticker,\n",
    "        \"apikey\": API_KEY,\n",
    "        \"outputsize\": \"full\"\n",
    "    }\n",
    "\n",
    "    response = requests.get(url, params=params)\n",
    "    data = response.json()\n",
    "\n",
    "    # Check for valid time series key\n",
    "    time_series_key = next((key for key in data if \"Time Series\" in key), None)\n",
    "    if not time_series_key:\n",
    "        print(f\"[Error] No time series for {ticker}. Response: {data}\")\n",
    "        return pd.Series(dtype=float)  # Empty series\n",
    "\n",
    "    df = pd.DataFrame(data[time_series_key]).T\n",
    "    df.index = pd.to_datetime(df.index)\n",
    "    df = df.sort_index()\n",
    "    df[\"close\"] = df[\"4. close\"].astype(float)\n",
    "\n",
    "    return df[\"close\"].iloc[-1260:]  # Last 5 years of trading days\n",
    "\n",
    "def fetch_all_prices(symbols, output_file=\"daily_close_prices.csv\"):\n",
    "    all_prices = {}\n",
    "\n",
    "    for i, symbol in enumerate(symbols):\n",
    "        print(f\"[{i+1}/{len(symbols)}] Fetching {symbol}...\")\n",
    "        all_prices[symbol] = fetch_daily_prices(symbol)\n",
    "\n",
    "    df = pd.DataFrame(all_prices)\n",
    "    df.to_csv(output_file)\n",
    "    print(f\"\\n Saved data to {output_file}\")\n",
    "    return df"
   ]
  },
  {
   "cell_type": "code",
   "execution_count": 33,
   "id": "35bcb4b1-c309-4f2a-bd00-c109bca46251",
   "metadata": {},
   "outputs": [
    {
     "name": "stdout",
     "output_type": "stream",
     "text": [
      "[1/2] Fetching MSFT...\n",
      "[Error] No time series for MSFT. Response: {'Information': 'Thank you for using Alpha Vantage! This is a premium endpoint. You may subscribe to any of the premium plans at https://www.alphavantage.co/premium/ to instantly unlock all premium endpoints'}\n",
      "[2/2] Fetching NVDA...\n",
      "[Error] No time series for NVDA. Response: {'Information': 'Thank you for using Alpha Vantage! This is a premium endpoint. You may subscribe to any of the premium plans at https://www.alphavantage.co/premium/ to instantly unlock all premium endpoints'}\n",
      "\n",
      " Saved data to daily_close_prices.csv\n"
     ]
    }
   ],
   "source": [
    "\n",
    "df_prices = fetch_all_prices(test)"
   ]
  },
  {
   "cell_type": "code",
   "execution_count": 37,
   "id": "f3807d11-b234-4054-8c4c-1cb84d810033",
   "metadata": {},
   "outputs": [],
   "source": [
    "# TODO: Might have to take out the returns calculation and have sharpe ratio calculations seperate\n",
    "\n",
    "def calculate_portfolio_metrics(prices_df, weights, risk_free_rate=0.02):\n",
    "    # Step 1: Calculate daily returns\n",
    "    daily_returns = prices_df.pct_change().dropna()\n",
    "    \n",
    "    # Step 2: Calculate mean annual return\n",
    "    mean_daily_returns = daily_returns.mean()\n",
    "    mean_annual_returns = (1 + mean_daily_returns) ** 252 - 1\n",
    "\n",
    "    # Step 3: Calculate annualized covariance matrix\n",
    "    cov_matrix_annual = daily_returns.cov() * 252\n",
    "\n",
    "    # Step 4: Compute expected return, volatility, Sharpe ratio\n",
    "    weights_array = np.array(weights)\n",
    "    expected_return = np.dot(weights_array, mean_annual_returns)\n",
    "    portfolio_variance = np.dot(weights_array.T, np.dot(cov_matrix_annual, weights_array))\n",
    "    portfolio_volatility = np.sqrt(portfolio_variance)\n",
    "    sharpe_ratio = (expected_return - risk_free_rate) / portfolio_volatility\n",
    "\n",
    "    return {\n",
    "        \"Expected Annual Return\": expected_return,\n",
    "        \"Annual Volatility\": portfolio_volatility,\n",
    "        \"Sharpe Ratio\": sharpe_ratio\n",
    "    }"
   ]
  },
  {
   "cell_type": "code",
   "execution_count": null,
   "id": "0ac01bbd-38ab-489f-9999-fa4f77208a05",
   "metadata": {},
   "outputs": [],
   "source": [
    "def eval_esg_scores(esg, weights):\n",
    "    return np.dot(weights, esg)"
   ]
  },
  {
   "cell_type": "code",
   "execution_count": null,
   "id": "0814fb4d-d6a5-4dc3-9367-37c2733dc01f",
   "metadata": {},
   "outputs": [],
   "source": [
    "# ABC Algorithm\n",
    "\n",
    "#Pseudocode:"
   ]
  }
 ],
 "metadata": {
  "kernelspec": {
   "display_name": "Python [conda env:base] *",
   "language": "python",
   "name": "conda-base-py"
  },
  "language_info": {
   "codemirror_mode": {
    "name": "ipython",
    "version": 3
   },
   "file_extension": ".py",
   "mimetype": "text/x-python",
   "name": "python",
   "nbconvert_exporter": "python",
   "pygments_lexer": "ipython3",
   "version": "3.12.7"
  }
 },
 "nbformat": 4,
 "nbformat_minor": 5
}

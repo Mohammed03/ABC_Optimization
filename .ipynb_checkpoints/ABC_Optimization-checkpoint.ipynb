{
 "cells": [
  {
   "cell_type": "markdown",
   "id": "a04e6281-314f-41bf-9e0d-f0b1158fac0c",
   "metadata": {},
   "source": [
    "# Objective Function\n",
    "## Pareto Frontier of Sharpe Ratio and ESG Score\n",
    "\n",
    "The Sharpe Ratio is defined as:\n",
    "\n",
    "$$\n",
    "\\text{Sharpe Ratio} = \\frac{\\sum_{i=1}^n w_i \\mu_i - R_f}{\\sqrt{w^T \\Sigma w}}\n",
    "$$\n",
    "\n",
    "Where:\n",
    "- $μ_i$ = Portfolio return  \n",
    "- $R_f$ = Risk-free rate  \n",
    "- $σ_p$ = Portfolio volatility (standard deviation)\n",
    "- $Σw$\t= Covariance matrix"
   ]
  },
  {
   "cell_type": "code",
   "execution_count": 15,
   "id": "ec2770f5-0c72-4d6a-9301-c7f62877dd28",
   "metadata": {},
   "outputs": [],
   "source": [
    "# add annualization as well as method to get covariance matrix\n",
    "def sharpe_ratio(weights, historical_returns, cov_matrix, risk_free_rate = 0.24):\n",
    "    weights = np.array(weights)\n",
    "    historical_returns = np.array(historical_returns)\n",
    "    cov_matrix = np.array(cov_matrix)\n",
    "    \n",
    "    # Portfolio metrics\n",
    "    portfolio_return = np.dot(weights, expected_returns)\n",
    "    portfolio_volatility = np.sqrt(np.dot(weights.T, np.dot(cov_matrix, weights)))\n",
    "    \n",
    "    # Sharpe Ratio calculation\n",
    "    sharpe = (portfolio_return - risk_free_rate) / portfolio_volatility\n",
    "    \n",
    "    return sharpe"
   ]
  },
  {
   "cell_type": "code",
   "execution_count": 27,
   "id": "5fa5149e-14be-4645-a81f-b5dbce0a334c",
   "metadata": {},
   "outputs": [],
   "source": [
    "# gather ticker info from Alpha Vantage API\n",
    "API_KEY = \"OD76BXNCWU9GO4WP\"\n",
    "symbols = [\"MSFT\", \"AAPL\", \"NVDA\", \"UNH\", \"JNJ\", \"JPM\", \"V\", \"AMZN\", \"TSLA\", \"PG\", \n",
    "           \"KO\", \"HON\", \"UNP\", \"NEE\", \"CVX\", \"DUK\", \"PLD\", \"LIN\", \"GOOGL\", \"VZ\"]\n",
    "\n",
    "# Gather ESG scores\n",
    "historical_returns = [[] * len(symbols)]\n",
    "\n",
    "def calc_returns(ticker):\n",
    "    \n",
    "    # code\n",
    "    \n",
    "# start for loop\n",
    "\n",
    "# array for daily closing prices for the last 5 years for each company\n",
    "# calculate returns from opening and closing data\n",
    "# array of companies\n",
    "# multiply by the weight associated with each stock (sum to 1)\n",
    "\n",
    "\n",
    "\n",
    "\n",
    "# Initialize ABC algorithm to adjust weights (sum of 1) of each stock in order to find the best allocation of stocks in the portfolio based \n",
    "# on the objective function which is the pareto frontier of Sharpe Ratio and ESG score?\n",
    "\n",
    "# Backtest on data and confirm it outperforms certain benchmarks\n"
   ]
  },
  {
   "cell_type": "code",
   "execution_count": null,
   "id": "db5015d5-73f5-4cae-836f-99051feb0ca3",
   "metadata": {},
   "outputs": [],
   "source": []
  }
 ],
 "metadata": {
  "kernelspec": {
   "display_name": "Python [conda env:base] *",
   "language": "python",
   "name": "conda-base-py"
  },
  "language_info": {
   "codemirror_mode": {
    "name": "ipython",
    "version": 3
   },
   "file_extension": ".py",
   "mimetype": "text/x-python",
   "name": "python",
   "nbconvert_exporter": "python",
   "pygments_lexer": "ipython3",
   "version": "3.12.7"
  }
 },
 "nbformat": 4,
 "nbformat_minor": 5
}

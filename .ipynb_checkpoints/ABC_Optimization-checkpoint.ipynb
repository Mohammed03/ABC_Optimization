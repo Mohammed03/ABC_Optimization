{
 "cells": [
  {
   "cell_type": "markdown",
   "id": "a04e6281-314f-41bf-9e0d-f0b1158fac0c",
   "metadata": {},
   "source": [
    "# Objective Function\n",
    "## Weighted sum of Sharpe Ration and ESG Score\n",
    "\n",
    "The Sharpe Ratio is defined as:\n",
    "\n",
    "$$\n",
    "\\text{Sharpe Ratio} = \\frac{\\sum_{i=1}^n w_i \\mu_i - R_f}{\\sqrt{w^T \\Sigma w}}\n",
    "$$\n",
    "\n",
    "Where:\n",
    "- `μ_p` = Portfolio return  \n",
    "- `R_f` = Risk-free rate  \n",
    "- `σ_p` = Portfolio volatility (standard deviation)  "
   ]
  },
  {
   "cell_type": "code",
   "execution_count": null,
   "id": "ec2770f5-0c72-4d6a-9301-c7f62877dd28",
   "metadata": {},
   "outputs": [],
   "source": [
    "def sharpe_ratio(weights, expected_returns, cov_matrix, risk_free_rate = 0.24, annualize = True):\n",
    "    weights = np.array(weights)\n",
    "    expected_returns = np.array(expected_returns)\n",
    "    cov_matrix = np.array(cov_matrix)\n",
    "    \n",
    "    # Portfolio metrics\n",
    "    portfolio_return = np.dot(weights, expected_returns)\n",
    "    portfolio_volatility = np.sqrt(np.dot(weights.T, np.dot(cov_matrix, weights)))\n",
    "    \n",
    "    # Annualize if using daily/monthly data\n",
    "    if not annualize:\n",
    "        portfolio_return *= 252  \n",
    "        portfolio_volatility *= np.sqrt(252)\n",
    "    \n",
    "    # Sharpe Ratio calculation\n",
    "    sharpe = (portfolio_return - risk_free_rate) / portfolio_volatility\n",
    "    \n",
    "    return sharpe"
   ]
  }
 ],
 "metadata": {
  "kernelspec": {
   "display_name": "Python [conda env:base] *",
   "language": "python",
   "name": "conda-base-py"
  },
  "language_info": {
   "codemirror_mode": {
    "name": "ipython",
    "version": 3
   },
   "file_extension": ".py",
   "mimetype": "text/x-python",
   "name": "python",
   "nbconvert_exporter": "python",
   "pygments_lexer": "ipython3",
   "version": "3.12.7"
  }
 },
 "nbformat": 4,
 "nbformat_minor": 5
}
